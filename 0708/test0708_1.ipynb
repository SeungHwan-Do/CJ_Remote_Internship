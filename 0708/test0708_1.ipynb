{
  "nbformat": 4,
  "nbformat_minor": 0,
  "metadata": {
    "colab": {
      "name": "test0708_1.ipynb",
      "provenance": [],
      "collapsed_sections": [],
      "include_colab_link": true
    },
    "kernelspec": {
      "name": "python3",
      "display_name": "Python 3"
    }
  },
  "cells": [
    {
      "cell_type": "markdown",
      "metadata": {
        "id": "view-in-github",
        "colab_type": "text"
      },
      "source": [
        "<a href=\"https://colab.research.google.com/github/SeungHwan-Do/CJ_Remote_Internship/blob/main/0708/test0708_1.ipynb\" target=\"_parent\"><img src=\"https://colab.research.google.com/assets/colab-badge.svg\" alt=\"Open In Colab\"/></a>"
      ]
    },
    {
      "cell_type": "markdown",
      "metadata": {
        "id": "Sku5BZFEpIb8"
      },
      "source": [
        "# 환경 설정"
      ]
    },
    {
      "cell_type": "code",
      "metadata": {
        "id": "6Qp87nP6sT57"
      },
      "source": [
        "# 라이브러리 설정\n",
        "import pandas as pd\n",
        "import numpy as np\n",
        "import matplotlib.pyplot as plt\n",
        "import seaborn as sns"
      ],
      "execution_count": null,
      "outputs": []
    },
    {
      "cell_type": "markdown",
      "metadata": {
        "id": "0dRv2jmukjWS"
      },
      "source": [
        "# 데이터셋 불러오기"
      ]
    },
    {
      "cell_type": "code",
      "source": [
        "from google.colab import drive\n",
        "drive.mount('/content/drive')"
      ],
      "metadata": {
        "colab": {
          "base_uri": "https://localhost:8080/"
        },
        "id": "-ArARbHzoLTb",
        "outputId": "3b36d18e-67de-475c-e951-cd3ca66f06e6"
      },
      "execution_count": null,
      "outputs": [
        {
          "output_type": "stream",
          "name": "stdout",
          "text": [
            "Mounted at /content/drive\n"
          ]
        }
      ]
    },
    {
      "cell_type": "code",
      "metadata": {
        "id": "j5F-NXgpVgob",
        "outputId": "a16668d5-36ec-4690-a133-e1e652ad7bfa",
        "colab": {
          "base_uri": "https://localhost:8080/"
        }
      },
      "source": [
        "#CSV파일을 읽어오기\n",
        "drive_path = \"/content/drive/MyDrive/\"\n",
        "\n",
        "train = pd.read_csv(drive_path + \"dataset1.csv\")\n",
        "\n",
        "print(train.shape)"
      ],
      "execution_count": null,
      "outputs": [
        {
          "output_type": "stream",
          "name": "stdout",
          "text": [
            "(1048575, 19)\n"
          ]
        }
      ]
    },
    {
      "cell_type": "code",
      "metadata": {
        "id": "a1y0E0s3UQVH",
        "outputId": "7413b2cc-3f64-4594-e8b4-781d57f0f9e5",
        "colab": {
          "base_uri": "https://localhost:8080/",
          "height": 207
        }
      },
      "source": [
        "# train 데이터프레임 내용 확인\n",
        "train.head(3)"
      ],
      "execution_count": null,
      "outputs": [
        {
          "output_type": "execute_result",
          "data": {
            "text/plain": [
              "   STND_Y  IDV_ID   KEY_SEQ  SEX  AGE_GROUP  SIDO  RECU_FR_DT  FORM_CD  \\\n",
              "0    2020      29   3724043    1         17    41  2020-12-21        3   \n",
              "1    2020      29   3495225    1         17    41  2020-12-14        3   \n",
              "2    2020     255  10615350    2         18    41  2020-04-20        3   \n",
              "\n",
              "   DSBJT_CD MAIN_SICK SUB_SICK  VSCN  RECN  EDEC_ADD_RT  EDEC_TRAMT  \\\n",
              "0         1      I109     E785     1     1         0.15       11540   \n",
              "1         1      I109     E785     1     1         0.15       11540   \n",
              "2         1      I109     I251     1     1         0.15       11540   \n",
              "\n",
              "   EDEC_SBRDN_AMT  EDEC_JBRDN_AMT  TOT_PRES_DD_CNT DATA_STD_DT  \n",
              "0            1500           10040                0  2021-12-28  \n",
              "1            1500           10040                7  2021-12-28  \n",
              "2            1500           10040               30  2021-12-28  "
            ],
            "text/html": [
              "\n",
              "  <div id=\"df-7d4fbb3a-9998-456f-8533-4355eecc3bdc\">\n",
              "    <div class=\"colab-df-container\">\n",
              "      <div>\n",
              "<style scoped>\n",
              "    .dataframe tbody tr th:only-of-type {\n",
              "        vertical-align: middle;\n",
              "    }\n",
              "\n",
              "    .dataframe tbody tr th {\n",
              "        vertical-align: top;\n",
              "    }\n",
              "\n",
              "    .dataframe thead th {\n",
              "        text-align: right;\n",
              "    }\n",
              "</style>\n",
              "<table border=\"1\" class=\"dataframe\">\n",
              "  <thead>\n",
              "    <tr style=\"text-align: right;\">\n",
              "      <th></th>\n",
              "      <th>STND_Y</th>\n",
              "      <th>IDV_ID</th>\n",
              "      <th>KEY_SEQ</th>\n",
              "      <th>SEX</th>\n",
              "      <th>AGE_GROUP</th>\n",
              "      <th>SIDO</th>\n",
              "      <th>RECU_FR_DT</th>\n",
              "      <th>FORM_CD</th>\n",
              "      <th>DSBJT_CD</th>\n",
              "      <th>MAIN_SICK</th>\n",
              "      <th>SUB_SICK</th>\n",
              "      <th>VSCN</th>\n",
              "      <th>RECN</th>\n",
              "      <th>EDEC_ADD_RT</th>\n",
              "      <th>EDEC_TRAMT</th>\n",
              "      <th>EDEC_SBRDN_AMT</th>\n",
              "      <th>EDEC_JBRDN_AMT</th>\n",
              "      <th>TOT_PRES_DD_CNT</th>\n",
              "      <th>DATA_STD_DT</th>\n",
              "    </tr>\n",
              "  </thead>\n",
              "  <tbody>\n",
              "    <tr>\n",
              "      <th>0</th>\n",
              "      <td>2020</td>\n",
              "      <td>29</td>\n",
              "      <td>3724043</td>\n",
              "      <td>1</td>\n",
              "      <td>17</td>\n",
              "      <td>41</td>\n",
              "      <td>2020-12-21</td>\n",
              "      <td>3</td>\n",
              "      <td>1</td>\n",
              "      <td>I109</td>\n",
              "      <td>E785</td>\n",
              "      <td>1</td>\n",
              "      <td>1</td>\n",
              "      <td>0.15</td>\n",
              "      <td>11540</td>\n",
              "      <td>1500</td>\n",
              "      <td>10040</td>\n",
              "      <td>0</td>\n",
              "      <td>2021-12-28</td>\n",
              "    </tr>\n",
              "    <tr>\n",
              "      <th>1</th>\n",
              "      <td>2020</td>\n",
              "      <td>29</td>\n",
              "      <td>3495225</td>\n",
              "      <td>1</td>\n",
              "      <td>17</td>\n",
              "      <td>41</td>\n",
              "      <td>2020-12-14</td>\n",
              "      <td>3</td>\n",
              "      <td>1</td>\n",
              "      <td>I109</td>\n",
              "      <td>E785</td>\n",
              "      <td>1</td>\n",
              "      <td>1</td>\n",
              "      <td>0.15</td>\n",
              "      <td>11540</td>\n",
              "      <td>1500</td>\n",
              "      <td>10040</td>\n",
              "      <td>7</td>\n",
              "      <td>2021-12-28</td>\n",
              "    </tr>\n",
              "    <tr>\n",
              "      <th>2</th>\n",
              "      <td>2020</td>\n",
              "      <td>255</td>\n",
              "      <td>10615350</td>\n",
              "      <td>2</td>\n",
              "      <td>18</td>\n",
              "      <td>41</td>\n",
              "      <td>2020-04-20</td>\n",
              "      <td>3</td>\n",
              "      <td>1</td>\n",
              "      <td>I109</td>\n",
              "      <td>I251</td>\n",
              "      <td>1</td>\n",
              "      <td>1</td>\n",
              "      <td>0.15</td>\n",
              "      <td>11540</td>\n",
              "      <td>1500</td>\n",
              "      <td>10040</td>\n",
              "      <td>30</td>\n",
              "      <td>2021-12-28</td>\n",
              "    </tr>\n",
              "  </tbody>\n",
              "</table>\n",
              "</div>\n",
              "      <button class=\"colab-df-convert\" onclick=\"convertToInteractive('df-7d4fbb3a-9998-456f-8533-4355eecc3bdc')\"\n",
              "              title=\"Convert this dataframe to an interactive table.\"\n",
              "              style=\"display:none;\">\n",
              "        \n",
              "  <svg xmlns=\"http://www.w3.org/2000/svg\" height=\"24px\"viewBox=\"0 0 24 24\"\n",
              "       width=\"24px\">\n",
              "    <path d=\"M0 0h24v24H0V0z\" fill=\"none\"/>\n",
              "    <path d=\"M18.56 5.44l.94 2.06.94-2.06 2.06-.94-2.06-.94-.94-2.06-.94 2.06-2.06.94zm-11 1L8.5 8.5l.94-2.06 2.06-.94-2.06-.94L8.5 2.5l-.94 2.06-2.06.94zm10 10l.94 2.06.94-2.06 2.06-.94-2.06-.94-.94-2.06-.94 2.06-2.06.94z\"/><path d=\"M17.41 7.96l-1.37-1.37c-.4-.4-.92-.59-1.43-.59-.52 0-1.04.2-1.43.59L10.3 9.45l-7.72 7.72c-.78.78-.78 2.05 0 2.83L4 21.41c.39.39.9.59 1.41.59.51 0 1.02-.2 1.41-.59l7.78-7.78 2.81-2.81c.8-.78.8-2.07 0-2.86zM5.41 20L4 18.59l7.72-7.72 1.47 1.35L5.41 20z\"/>\n",
              "  </svg>\n",
              "      </button>\n",
              "      \n",
              "  <style>\n",
              "    .colab-df-container {\n",
              "      display:flex;\n",
              "      flex-wrap:wrap;\n",
              "      gap: 12px;\n",
              "    }\n",
              "\n",
              "    .colab-df-convert {\n",
              "      background-color: #E8F0FE;\n",
              "      border: none;\n",
              "      border-radius: 50%;\n",
              "      cursor: pointer;\n",
              "      display: none;\n",
              "      fill: #1967D2;\n",
              "      height: 32px;\n",
              "      padding: 0 0 0 0;\n",
              "      width: 32px;\n",
              "    }\n",
              "\n",
              "    .colab-df-convert:hover {\n",
              "      background-color: #E2EBFA;\n",
              "      box-shadow: 0px 1px 2px rgba(60, 64, 67, 0.3), 0px 1px 3px 1px rgba(60, 64, 67, 0.15);\n",
              "      fill: #174EA6;\n",
              "    }\n",
              "\n",
              "    [theme=dark] .colab-df-convert {\n",
              "      background-color: #3B4455;\n",
              "      fill: #D2E3FC;\n",
              "    }\n",
              "\n",
              "    [theme=dark] .colab-df-convert:hover {\n",
              "      background-color: #434B5C;\n",
              "      box-shadow: 0px 1px 3px 1px rgba(0, 0, 0, 0.15);\n",
              "      filter: drop-shadow(0px 1px 2px rgba(0, 0, 0, 0.3));\n",
              "      fill: #FFFFFF;\n",
              "    }\n",
              "  </style>\n",
              "\n",
              "      <script>\n",
              "        const buttonEl =\n",
              "          document.querySelector('#df-7d4fbb3a-9998-456f-8533-4355eecc3bdc button.colab-df-convert');\n",
              "        buttonEl.style.display =\n",
              "          google.colab.kernel.accessAllowed ? 'block' : 'none';\n",
              "\n",
              "        async function convertToInteractive(key) {\n",
              "          const element = document.querySelector('#df-7d4fbb3a-9998-456f-8533-4355eecc3bdc');\n",
              "          const dataTable =\n",
              "            await google.colab.kernel.invokeFunction('convertToInteractive',\n",
              "                                                     [key], {});\n",
              "          if (!dataTable) return;\n",
              "\n",
              "          const docLinkHtml = 'Like what you see? Visit the ' +\n",
              "            '<a target=\"_blank\" href=https://colab.research.google.com/notebooks/data_table.ipynb>data table notebook</a>'\n",
              "            + ' to learn more about interactive tables.';\n",
              "          element.innerHTML = '';\n",
              "          dataTable['output_type'] = 'display_data';\n",
              "          await google.colab.output.renderOutput(dataTable, element);\n",
              "          const docLink = document.createElement('div');\n",
              "          docLink.innerHTML = docLinkHtml;\n",
              "          element.appendChild(docLink);\n",
              "        }\n",
              "      </script>\n",
              "    </div>\n",
              "  </div>\n",
              "  "
            ]
          },
          "metadata": {},
          "execution_count": 7
        }
      ]
    },
    {
      "cell_type": "markdown",
      "metadata": {
        "id": "QkinNZpOkvam"
      },
      "source": [
        "# 데이터 살펴보기"
      ]
    },
    {
      "cell_type": "markdown",
      "metadata": {
        "id": "dyoH1tXWWH8I"
      },
      "source": [
        "### 데이터 구조"
      ]
    },
    {
      "cell_type": "code",
      "metadata": {
        "id": "wm_Dh4lfuzuT",
        "outputId": "39f8b8dd-6227-4625-bfd1-b5fcd380beb4",
        "colab": {
          "base_uri": "https://localhost:8080/"
        }
      },
      "source": [
        "# train 데이터프레임 개요 정보\n",
        "train.info()"
      ],
      "execution_count": null,
      "outputs": [
        {
          "output_type": "stream",
          "name": "stdout",
          "text": [
            "<class 'pandas.core.frame.DataFrame'>\n",
            "RangeIndex: 1048575 entries, 0 to 1048574\n",
            "Data columns (total 19 columns):\n",
            " #   Column           Non-Null Count    Dtype  \n",
            "---  ------           --------------    -----  \n",
            " 0   STND_Y           1048575 non-null  int64  \n",
            " 1   IDV_ID           1048575 non-null  int64  \n",
            " 2   KEY_SEQ          1048575 non-null  int64  \n",
            " 3   SEX              1048575 non-null  int64  \n",
            " 4   AGE_GROUP        1048575 non-null  int64  \n",
            " 5   SIDO             1048575 non-null  int64  \n",
            " 6   RECU_FR_DT       1048575 non-null  object \n",
            " 7   FORM_CD          1048575 non-null  int64  \n",
            " 8   DSBJT_CD         1048575 non-null  int64  \n",
            " 9   MAIN_SICK        1048575 non-null  object \n",
            " 10  SUB_SICK         1048575 non-null  object \n",
            " 11  VSCN             1048575 non-null  int64  \n",
            " 12  RECN             1048575 non-null  int64  \n",
            " 13  EDEC_ADD_RT      1048575 non-null  float64\n",
            " 14  EDEC_TRAMT       1048575 non-null  int64  \n",
            " 15  EDEC_SBRDN_AMT   1048575 non-null  int64  \n",
            " 16  EDEC_JBRDN_AMT   1048575 non-null  int64  \n",
            " 17  TOT_PRES_DD_CNT  1048575 non-null  int64  \n",
            " 18  DATA_STD_DT      1048575 non-null  object \n",
            "dtypes: float64(1), int64(14), object(4)\n",
            "memory usage: 152.0+ MB\n"
          ]
        }
      ]
    },
    {
      "cell_type": "code",
      "metadata": {
        "id": "1ieUpXYRZ8RI",
        "outputId": "5549287d-ed54-4a40-b5f4-7ea519ceec5d",
        "colab": {
          "base_uri": "https://localhost:8080/",
          "height": 458
        }
      },
      "source": [
        "# train 데이터프레임 통계정보\n",
        "train.describe(include='all')"
      ],
      "execution_count": null,
      "outputs": [
        {
          "output_type": "execute_result",
          "data": {
            "text/plain": [
              "           STND_Y        IDV_ID       KEY_SEQ           SEX     AGE_GROUP  \\\n",
              "count   1048575.0  1.048575e+06  1.048575e+06  1.048575e+06  1.048575e+06   \n",
              "unique        NaN           NaN           NaN           NaN           NaN   \n",
              "top           NaN           NaN           NaN           NaN           NaN   \n",
              "freq          NaN           NaN           NaN           NaN           NaN   \n",
              "mean       2020.0  1.661755e+05  5.659551e+06  1.562559e+00  1.123280e+01   \n",
              "std           0.0  9.611398e+04  3.406616e+06  4.960712e-01  4.770835e+00   \n",
              "min        2020.0  2.000000e+00  1.000000e+01  1.000000e+00  1.000000e+00   \n",
              "25%        2020.0  8.318050e+04  2.617641e+06  1.000000e+00  8.000000e+00   \n",
              "50%        2020.0  1.662400e+05  5.558405e+06  2.000000e+00  1.200000e+01   \n",
              "75%        2020.0  2.491910e+05  8.592534e+06  2.000000e+00  1.500000e+01   \n",
              "max        2020.0  3.333330e+05  1.172724e+07  2.000000e+00  1.800000e+01   \n",
              "\n",
              "                SIDO  RECU_FR_DT       FORM_CD      DSBJT_CD MAIN_SICK  \\\n",
              "count   1.048575e+06     1048575  1.048575e+06  1.048575e+06   1048575   \n",
              "unique           NaN         366           NaN           NaN      4169   \n",
              "top              NaN  2020-01-28           NaN           NaN      I109   \n",
              "freq             NaN        7005           NaN           NaN    141027   \n",
              "mean    3.369546e+01         NaN  2.999735e+00  6.451292e+00       NaN   \n",
              "std     1.278442e+01         NaN  1.628041e-02  6.457953e+00       NaN   \n",
              "min     1.100000e+01         NaN  2.000000e+00  0.000000e+00       NaN   \n",
              "25%     2.700000e+01         NaN  3.000000e+00  1.000000e+00       NaN   \n",
              "50%     4.100000e+01         NaN  3.000000e+00  4.000000e+00       NaN   \n",
              "75%     4.400000e+01         NaN  3.000000e+00  1.300000e+01       NaN   \n",
              "max     4.900000e+01         NaN  3.000000e+00  5.500000e+01       NaN   \n",
              "\n",
              "       SUB_SICK       VSCN       RECN   EDEC_ADD_RT    EDEC_TRAMT  \\\n",
              "count   1048575  1048575.0  1048575.0  1.048575e+06  1.048575e+06   \n",
              "unique     4222        NaN        NaN           NaN           NaN   \n",
              "top        J304        NaN        NaN           NaN           NaN   \n",
              "freq      61492        NaN        NaN           NaN           NaN   \n",
              "mean        NaN        1.0        1.0  1.500000e-01  1.549178e+04   \n",
              "std         NaN        0.0        0.0  2.775559e-17  1.828412e+04   \n",
              "min         NaN        1.0        1.0  1.500000e-01  1.530000e+03   \n",
              "25%         NaN        1.0        1.0  1.500000e-01  1.154000e+04   \n",
              "50%         NaN        1.0        1.0  1.500000e-01  1.362000e+04   \n",
              "75%         NaN        1.0        1.0  1.500000e-01  1.614000e+04   \n",
              "max         NaN        1.0        1.0  1.500000e-01  3.278950e+06   \n",
              "\n",
              "        EDEC_SBRDN_AMT  EDEC_JBRDN_AMT  TOT_PRES_DD_CNT DATA_STD_DT  \n",
              "count     1.048575e+06    1.048575e+06     1.048575e+06     1048575  \n",
              "unique             NaN             NaN              NaN           1  \n",
              "top                NaN             NaN              NaN  2021-12-28  \n",
              "freq               NaN             NaN              NaN     1048575  \n",
              "mean      3.198712e+03    1.229186e+04     1.467077e+01         NaN  \n",
              "std       2.523003e+03    1.667087e+04     1.926278e+01         NaN  \n",
              "min       0.000000e+00    3.000000e+01     0.000000e+00         NaN  \n",
              "25%       1.500000e+03    9.620000e+03     3.000000e+00         NaN  \n",
              "50%       3.400000e+03    1.083000e+04     5.000000e+00         NaN  \n",
              "75%       4.200000e+03    1.212000e+04     3.000000e+01         NaN  \n",
              "max       3.517000e+05    2.951150e+06     3.650000e+02         NaN  "
            ],
            "text/html": [
              "\n",
              "  <div id=\"df-0a057695-e6b3-4e50-91ef-2228ec8146ee\">\n",
              "    <div class=\"colab-df-container\">\n",
              "      <div>\n",
              "<style scoped>\n",
              "    .dataframe tbody tr th:only-of-type {\n",
              "        vertical-align: middle;\n",
              "    }\n",
              "\n",
              "    .dataframe tbody tr th {\n",
              "        vertical-align: top;\n",
              "    }\n",
              "\n",
              "    .dataframe thead th {\n",
              "        text-align: right;\n",
              "    }\n",
              "</style>\n",
              "<table border=\"1\" class=\"dataframe\">\n",
              "  <thead>\n",
              "    <tr style=\"text-align: right;\">\n",
              "      <th></th>\n",
              "      <th>STND_Y</th>\n",
              "      <th>IDV_ID</th>\n",
              "      <th>KEY_SEQ</th>\n",
              "      <th>SEX</th>\n",
              "      <th>AGE_GROUP</th>\n",
              "      <th>SIDO</th>\n",
              "      <th>RECU_FR_DT</th>\n",
              "      <th>FORM_CD</th>\n",
              "      <th>DSBJT_CD</th>\n",
              "      <th>MAIN_SICK</th>\n",
              "      <th>SUB_SICK</th>\n",
              "      <th>VSCN</th>\n",
              "      <th>RECN</th>\n",
              "      <th>EDEC_ADD_RT</th>\n",
              "      <th>EDEC_TRAMT</th>\n",
              "      <th>EDEC_SBRDN_AMT</th>\n",
              "      <th>EDEC_JBRDN_AMT</th>\n",
              "      <th>TOT_PRES_DD_CNT</th>\n",
              "      <th>DATA_STD_DT</th>\n",
              "    </tr>\n",
              "  </thead>\n",
              "  <tbody>\n",
              "    <tr>\n",
              "      <th>count</th>\n",
              "      <td>1048575.0</td>\n",
              "      <td>1.048575e+06</td>\n",
              "      <td>1.048575e+06</td>\n",
              "      <td>1.048575e+06</td>\n",
              "      <td>1.048575e+06</td>\n",
              "      <td>1.048575e+06</td>\n",
              "      <td>1048575</td>\n",
              "      <td>1.048575e+06</td>\n",
              "      <td>1.048575e+06</td>\n",
              "      <td>1048575</td>\n",
              "      <td>1048575</td>\n",
              "      <td>1048575.0</td>\n",
              "      <td>1048575.0</td>\n",
              "      <td>1.048575e+06</td>\n",
              "      <td>1.048575e+06</td>\n",
              "      <td>1.048575e+06</td>\n",
              "      <td>1.048575e+06</td>\n",
              "      <td>1.048575e+06</td>\n",
              "      <td>1048575</td>\n",
              "    </tr>\n",
              "    <tr>\n",
              "      <th>unique</th>\n",
              "      <td>NaN</td>\n",
              "      <td>NaN</td>\n",
              "      <td>NaN</td>\n",
              "      <td>NaN</td>\n",
              "      <td>NaN</td>\n",
              "      <td>NaN</td>\n",
              "      <td>366</td>\n",
              "      <td>NaN</td>\n",
              "      <td>NaN</td>\n",
              "      <td>4169</td>\n",
              "      <td>4222</td>\n",
              "      <td>NaN</td>\n",
              "      <td>NaN</td>\n",
              "      <td>NaN</td>\n",
              "      <td>NaN</td>\n",
              "      <td>NaN</td>\n",
              "      <td>NaN</td>\n",
              "      <td>NaN</td>\n",
              "      <td>1</td>\n",
              "    </tr>\n",
              "    <tr>\n",
              "      <th>top</th>\n",
              "      <td>NaN</td>\n",
              "      <td>NaN</td>\n",
              "      <td>NaN</td>\n",
              "      <td>NaN</td>\n",
              "      <td>NaN</td>\n",
              "      <td>NaN</td>\n",
              "      <td>2020-01-28</td>\n",
              "      <td>NaN</td>\n",
              "      <td>NaN</td>\n",
              "      <td>I109</td>\n",
              "      <td>J304</td>\n",
              "      <td>NaN</td>\n",
              "      <td>NaN</td>\n",
              "      <td>NaN</td>\n",
              "      <td>NaN</td>\n",
              "      <td>NaN</td>\n",
              "      <td>NaN</td>\n",
              "      <td>NaN</td>\n",
              "      <td>2021-12-28</td>\n",
              "    </tr>\n",
              "    <tr>\n",
              "      <th>freq</th>\n",
              "      <td>NaN</td>\n",
              "      <td>NaN</td>\n",
              "      <td>NaN</td>\n",
              "      <td>NaN</td>\n",
              "      <td>NaN</td>\n",
              "      <td>NaN</td>\n",
              "      <td>7005</td>\n",
              "      <td>NaN</td>\n",
              "      <td>NaN</td>\n",
              "      <td>141027</td>\n",
              "      <td>61492</td>\n",
              "      <td>NaN</td>\n",
              "      <td>NaN</td>\n",
              "      <td>NaN</td>\n",
              "      <td>NaN</td>\n",
              "      <td>NaN</td>\n",
              "      <td>NaN</td>\n",
              "      <td>NaN</td>\n",
              "      <td>1048575</td>\n",
              "    </tr>\n",
              "    <tr>\n",
              "      <th>mean</th>\n",
              "      <td>2020.0</td>\n",
              "      <td>1.661755e+05</td>\n",
              "      <td>5.659551e+06</td>\n",
              "      <td>1.562559e+00</td>\n",
              "      <td>1.123280e+01</td>\n",
              "      <td>3.369546e+01</td>\n",
              "      <td>NaN</td>\n",
              "      <td>2.999735e+00</td>\n",
              "      <td>6.451292e+00</td>\n",
              "      <td>NaN</td>\n",
              "      <td>NaN</td>\n",
              "      <td>1.0</td>\n",
              "      <td>1.0</td>\n",
              "      <td>1.500000e-01</td>\n",
              "      <td>1.549178e+04</td>\n",
              "      <td>3.198712e+03</td>\n",
              "      <td>1.229186e+04</td>\n",
              "      <td>1.467077e+01</td>\n",
              "      <td>NaN</td>\n",
              "    </tr>\n",
              "    <tr>\n",
              "      <th>std</th>\n",
              "      <td>0.0</td>\n",
              "      <td>9.611398e+04</td>\n",
              "      <td>3.406616e+06</td>\n",
              "      <td>4.960712e-01</td>\n",
              "      <td>4.770835e+00</td>\n",
              "      <td>1.278442e+01</td>\n",
              "      <td>NaN</td>\n",
              "      <td>1.628041e-02</td>\n",
              "      <td>6.457953e+00</td>\n",
              "      <td>NaN</td>\n",
              "      <td>NaN</td>\n",
              "      <td>0.0</td>\n",
              "      <td>0.0</td>\n",
              "      <td>2.775559e-17</td>\n",
              "      <td>1.828412e+04</td>\n",
              "      <td>2.523003e+03</td>\n",
              "      <td>1.667087e+04</td>\n",
              "      <td>1.926278e+01</td>\n",
              "      <td>NaN</td>\n",
              "    </tr>\n",
              "    <tr>\n",
              "      <th>min</th>\n",
              "      <td>2020.0</td>\n",
              "      <td>2.000000e+00</td>\n",
              "      <td>1.000000e+01</td>\n",
              "      <td>1.000000e+00</td>\n",
              "      <td>1.000000e+00</td>\n",
              "      <td>1.100000e+01</td>\n",
              "      <td>NaN</td>\n",
              "      <td>2.000000e+00</td>\n",
              "      <td>0.000000e+00</td>\n",
              "      <td>NaN</td>\n",
              "      <td>NaN</td>\n",
              "      <td>1.0</td>\n",
              "      <td>1.0</td>\n",
              "      <td>1.500000e-01</td>\n",
              "      <td>1.530000e+03</td>\n",
              "      <td>0.000000e+00</td>\n",
              "      <td>3.000000e+01</td>\n",
              "      <td>0.000000e+00</td>\n",
              "      <td>NaN</td>\n",
              "    </tr>\n",
              "    <tr>\n",
              "      <th>25%</th>\n",
              "      <td>2020.0</td>\n",
              "      <td>8.318050e+04</td>\n",
              "      <td>2.617641e+06</td>\n",
              "      <td>1.000000e+00</td>\n",
              "      <td>8.000000e+00</td>\n",
              "      <td>2.700000e+01</td>\n",
              "      <td>NaN</td>\n",
              "      <td>3.000000e+00</td>\n",
              "      <td>1.000000e+00</td>\n",
              "      <td>NaN</td>\n",
              "      <td>NaN</td>\n",
              "      <td>1.0</td>\n",
              "      <td>1.0</td>\n",
              "      <td>1.500000e-01</td>\n",
              "      <td>1.154000e+04</td>\n",
              "      <td>1.500000e+03</td>\n",
              "      <td>9.620000e+03</td>\n",
              "      <td>3.000000e+00</td>\n",
              "      <td>NaN</td>\n",
              "    </tr>\n",
              "    <tr>\n",
              "      <th>50%</th>\n",
              "      <td>2020.0</td>\n",
              "      <td>1.662400e+05</td>\n",
              "      <td>5.558405e+06</td>\n",
              "      <td>2.000000e+00</td>\n",
              "      <td>1.200000e+01</td>\n",
              "      <td>4.100000e+01</td>\n",
              "      <td>NaN</td>\n",
              "      <td>3.000000e+00</td>\n",
              "      <td>4.000000e+00</td>\n",
              "      <td>NaN</td>\n",
              "      <td>NaN</td>\n",
              "      <td>1.0</td>\n",
              "      <td>1.0</td>\n",
              "      <td>1.500000e-01</td>\n",
              "      <td>1.362000e+04</td>\n",
              "      <td>3.400000e+03</td>\n",
              "      <td>1.083000e+04</td>\n",
              "      <td>5.000000e+00</td>\n",
              "      <td>NaN</td>\n",
              "    </tr>\n",
              "    <tr>\n",
              "      <th>75%</th>\n",
              "      <td>2020.0</td>\n",
              "      <td>2.491910e+05</td>\n",
              "      <td>8.592534e+06</td>\n",
              "      <td>2.000000e+00</td>\n",
              "      <td>1.500000e+01</td>\n",
              "      <td>4.400000e+01</td>\n",
              "      <td>NaN</td>\n",
              "      <td>3.000000e+00</td>\n",
              "      <td>1.300000e+01</td>\n",
              "      <td>NaN</td>\n",
              "      <td>NaN</td>\n",
              "      <td>1.0</td>\n",
              "      <td>1.0</td>\n",
              "      <td>1.500000e-01</td>\n",
              "      <td>1.614000e+04</td>\n",
              "      <td>4.200000e+03</td>\n",
              "      <td>1.212000e+04</td>\n",
              "      <td>3.000000e+01</td>\n",
              "      <td>NaN</td>\n",
              "    </tr>\n",
              "    <tr>\n",
              "      <th>max</th>\n",
              "      <td>2020.0</td>\n",
              "      <td>3.333330e+05</td>\n",
              "      <td>1.172724e+07</td>\n",
              "      <td>2.000000e+00</td>\n",
              "      <td>1.800000e+01</td>\n",
              "      <td>4.900000e+01</td>\n",
              "      <td>NaN</td>\n",
              "      <td>3.000000e+00</td>\n",
              "      <td>5.500000e+01</td>\n",
              "      <td>NaN</td>\n",
              "      <td>NaN</td>\n",
              "      <td>1.0</td>\n",
              "      <td>1.0</td>\n",
              "      <td>1.500000e-01</td>\n",
              "      <td>3.278950e+06</td>\n",
              "      <td>3.517000e+05</td>\n",
              "      <td>2.951150e+06</td>\n",
              "      <td>3.650000e+02</td>\n",
              "      <td>NaN</td>\n",
              "    </tr>\n",
              "  </tbody>\n",
              "</table>\n",
              "</div>\n",
              "      <button class=\"colab-df-convert\" onclick=\"convertToInteractive('df-0a057695-e6b3-4e50-91ef-2228ec8146ee')\"\n",
              "              title=\"Convert this dataframe to an interactive table.\"\n",
              "              style=\"display:none;\">\n",
              "        \n",
              "  <svg xmlns=\"http://www.w3.org/2000/svg\" height=\"24px\"viewBox=\"0 0 24 24\"\n",
              "       width=\"24px\">\n",
              "    <path d=\"M0 0h24v24H0V0z\" fill=\"none\"/>\n",
              "    <path d=\"M18.56 5.44l.94 2.06.94-2.06 2.06-.94-2.06-.94-.94-2.06-.94 2.06-2.06.94zm-11 1L8.5 8.5l.94-2.06 2.06-.94-2.06-.94L8.5 2.5l-.94 2.06-2.06.94zm10 10l.94 2.06.94-2.06 2.06-.94-2.06-.94-.94-2.06-.94 2.06-2.06.94z\"/><path d=\"M17.41 7.96l-1.37-1.37c-.4-.4-.92-.59-1.43-.59-.52 0-1.04.2-1.43.59L10.3 9.45l-7.72 7.72c-.78.78-.78 2.05 0 2.83L4 21.41c.39.39.9.59 1.41.59.51 0 1.02-.2 1.41-.59l7.78-7.78 2.81-2.81c.8-.78.8-2.07 0-2.86zM5.41 20L4 18.59l7.72-7.72 1.47 1.35L5.41 20z\"/>\n",
              "  </svg>\n",
              "      </button>\n",
              "      \n",
              "  <style>\n",
              "    .colab-df-container {\n",
              "      display:flex;\n",
              "      flex-wrap:wrap;\n",
              "      gap: 12px;\n",
              "    }\n",
              "\n",
              "    .colab-df-convert {\n",
              "      background-color: #E8F0FE;\n",
              "      border: none;\n",
              "      border-radius: 50%;\n",
              "      cursor: pointer;\n",
              "      display: none;\n",
              "      fill: #1967D2;\n",
              "      height: 32px;\n",
              "      padding: 0 0 0 0;\n",
              "      width: 32px;\n",
              "    }\n",
              "\n",
              "    .colab-df-convert:hover {\n",
              "      background-color: #E2EBFA;\n",
              "      box-shadow: 0px 1px 2px rgba(60, 64, 67, 0.3), 0px 1px 3px 1px rgba(60, 64, 67, 0.15);\n",
              "      fill: #174EA6;\n",
              "    }\n",
              "\n",
              "    [theme=dark] .colab-df-convert {\n",
              "      background-color: #3B4455;\n",
              "      fill: #D2E3FC;\n",
              "    }\n",
              "\n",
              "    [theme=dark] .colab-df-convert:hover {\n",
              "      background-color: #434B5C;\n",
              "      box-shadow: 0px 1px 3px 1px rgba(0, 0, 0, 0.15);\n",
              "      filter: drop-shadow(0px 1px 2px rgba(0, 0, 0, 0.3));\n",
              "      fill: #FFFFFF;\n",
              "    }\n",
              "  </style>\n",
              "\n",
              "      <script>\n",
              "        const buttonEl =\n",
              "          document.querySelector('#df-0a057695-e6b3-4e50-91ef-2228ec8146ee button.colab-df-convert');\n",
              "        buttonEl.style.display =\n",
              "          google.colab.kernel.accessAllowed ? 'block' : 'none';\n",
              "\n",
              "        async function convertToInteractive(key) {\n",
              "          const element = document.querySelector('#df-0a057695-e6b3-4e50-91ef-2228ec8146ee');\n",
              "          const dataTable =\n",
              "            await google.colab.kernel.invokeFunction('convertToInteractive',\n",
              "                                                     [key], {});\n",
              "          if (!dataTable) return;\n",
              "\n",
              "          const docLinkHtml = 'Like what you see? Visit the ' +\n",
              "            '<a target=\"_blank\" href=https://colab.research.google.com/notebooks/data_table.ipynb>data table notebook</a>'\n",
              "            + ' to learn more about interactive tables.';\n",
              "          element.innerHTML = '';\n",
              "          dataTable['output_type'] = 'display_data';\n",
              "          await google.colab.output.renderOutput(dataTable, element);\n",
              "          const docLink = document.createElement('div');\n",
              "          docLink.innerHTML = docLinkHtml;\n",
              "          element.appendChild(docLink);\n",
              "        }\n",
              "      </script>\n",
              "    </div>\n",
              "  </div>\n",
              "  "
            ]
          },
          "metadata": {},
          "execution_count": 9
        }
      ]
    },
    {
      "cell_type": "markdown",
      "metadata": {
        "id": "SeqCftteWOG-"
      },
      "source": [
        "### 결측값 확인"
      ]
    },
    {
      "cell_type": "code",
      "metadata": {
        "id": "5GOEkxgabOdm",
        "outputId": "d37f96e2-5c32-474d-de68-e03451e9ac78",
        "colab": {
          "base_uri": "https://localhost:8080/",
          "height": 499
        }
      },
      "source": [
        "# 결측값 분포\n",
        "import missingno as msno\n",
        "msno.bar(train, figsize=(10, 5), color=(0.7, 0.2, 0.2))\n",
        "plt.show()"
      ],
      "execution_count": null,
      "outputs": [
        {
          "output_type": "display_data",
          "data": {
            "text/plain": [
              "<Figure size 720x360 with 3 Axes>"
            ],
            "image/png": "[encoded data removed]"
          },
          "metadata": {
            "needs_background": "light"
          }
        }
      ]
    },
    {
      "cell_type": "markdown",
      "metadata": {
        "id": "mWNEYtRsjAJB"
      },
      "source": [
        "### 데이터 전처리"
      ]
    },
    {
      "cell_type": "markdown",
      "metadata": {
        "id": "Y2d-sHETxSHw"
      },
      "source": [
        "# 피처 엔지니어링\n",
        "- 문자열, 범주형 변수를 포함\n",
        "- 데이터 탐색(EDA) 및 전처리(pre-processing) 포함"
      ]
    },
    {
      "cell_type": "code",
      "metadata": {
        "id": "iIL8H6_HJdtK",
        "outputId": "8f9d9dfe-2a72-419a-adca-a3a63522317a",
        "colab": {
          "base_uri": "https://localhost:8080/",
          "height": 369
        }
      },
      "source": [
        "# Age 분포\n",
        "sns.displot(x='AGE_GROUP', kind='hist', hue='SEX', \n",
        "            data=train,)\n",
        "plt.show()"
      ],
      "execution_count": null,
      "outputs": [
        {
          "output_type": "display_data",
          "data": {
            "text/plain": [
              "<Figure size 402.375x360 with 1 Axes>"
            ],
            "image/png": "[encoded data removed]"
          },
          "metadata": {
            "needs_background": "light"
          }
        }
      ]
    },
    {
      "cell_type": "code",
      "metadata": {
        "id": "tB6paKIaMUUT"
      },
      "source": [
        "train['RECU_FR_DT'] = pd.to_datetime(train['RECU_FR_DT'])\n",
        "train['month']=train['RECU_FR_DT'].dt.month\n",
        "#train['spring']=np.where((train['month']==3) or (train['month']==4) or (train['month']==5),'1','0')\n",
        "train['season'] = \"winter\"\n",
        "train.loc[train['month']<12, 'season']=\"fall\"\n",
        "train.loc[train['month']<9, 'season']=\"summer\"\n",
        "train.loc[(train['month']<6)& (train['month']>=3), 'season']=\"spring\"\n",
        "train.loc[(train['month']==1)| (train['month']==2), 'season']=\"winter\"\n"
      ],
      "execution_count": null,
      "outputs": []
    },
    {
      "cell_type": "code",
      "source": [
        "train['desease']=None\n",
        "train.loc[(train['MAIN_SICK']>\"H09\")&(train['MAIN_SICK']<\"H11\"), 'desease']=train['MAIN_SICK']"
      ],
      "metadata": {
        "id": "3wm29cwZ4Ir-"
      },
      "execution_count": null,
      "outputs": []
    },
    {
      "cell_type": "code",
      "source": [
        "train.loc[(train['MAIN_SICK']>=\"J00\")&(train['MAIN_SICK']<\"J07\"), 'cold']=1"
      ],
      "metadata": {
        "id": "94WOfs1p37SW"
      },
      "execution_count": null,
      "outputs": []
    },
    {
      "cell_type": "code",
      "source": [
        "ax=sns.countplot(x = 'season', data=train)\n",
        "\n",
        "plt.show()"
      ],
      "metadata": {
        "colab": {
          "base_uri": "https://localhost:8080/",
          "height": 279
        },
        "id": "o5d9TcNWaT-s",
        "outputId": "3eff01a5-feec-425e-eaea-f6c170c178b4"
      },
      "execution_count": null,
      "outputs": [
        {
          "output_type": "display_data",
          "data": {
            "text/plain": [
              "<Figure size 432x288 with 1 Axes>"
            ],
            "image/png": "[encoded data removed]"
          },
          "metadata": {
            "needs_background": "light"
          }
        }
      ]
    },
    {
      "cell_type": "code",
      "source": [
        "sns.countplot(x = 'season', hue = 'desease', data=train)\n",
        "plt.legend(loc='best')\n",
        "plt.show()"
      ],
      "metadata": {
        "colab": {
          "base_uri": "https://localhost:8080/",
          "height": 282
        },
        "id": "xemgcBCSvWdB",
        "outputId": "84cdd614-8e32-4519-edd8-3ea43b5ef18c"
      },
      "execution_count": null,
      "outputs": [
        {
          "output_type": "display_data",
          "data": {
            "text/plain": [
              "<Figure size 432x288 with 1 Axes>"
            ],
            "image/png": "[encoded data removed]"
          },
          "metadata": {
            "needs_background": "light"
          }
        }
      ]
    },
    {
      "cell_type": "code",
      "source": [
        "sns.countplot(x = 'season', hue = 'cold', data=train)\n",
        "plt.legend(loc='best')\n",
        "plt.show()"
      ],
      "metadata": {
        "colab": {
          "base_uri": "https://localhost:8080/",
          "height": 279
        },
        "id": "I9mCsHuWwpfu",
        "outputId": "b52d26bb-4f9e-455b-8b92-807b8024f996"
      },
      "execution_count": null,
      "outputs": [
        {
          "output_type": "display_data",
          "data": {
            "text/plain": [
              "<Figure size 432x288 with 1 Axes>"
            ],
            "image/png": "[encoded data removed]"
          },
          "metadata": {
            "needs_background": "light"
          }
        }
      ]
    }
  ]
}